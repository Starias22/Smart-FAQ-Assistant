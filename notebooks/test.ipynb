{
 "cells": [
  {
   "cell_type": "code",
   "execution_count": null,
   "metadata": {},
   "outputs": [],
   "source": [
    "python3 -m venv project_env\n",
    "source project_env/bin/activate\n",
    "pip install sentence-transformers  chromadb hroma-migrate install Flask\n"
   ]
  },
  {
   "cell_type": "code",
   "execution_count": 13,
   "metadata": {},
   "outputs": [],
   "source": [
    "from chromadb import PersistentClient\n",
    "from chromadb.config import Settings\n",
    "from sentence_transformers import SentenceTransformer\n",
    "import numpy"
   ]
  },
  {
   "cell_type": "code",
   "execution_count": 2,
   "metadata": {},
   "outputs": [],
   "source": [
    "# If you run Chroma in Docker, specify the URL\n",
    "#client = Client(Settings(chroma_db_impl=\"duckdb+parquet\", persist_directory=\"./chroma_db\"))\n",
    "#client.delete_collection(name=\"faq_answers\")\n",
    "client = PersistentClient(path=\"./chroma_db\")\n",
    "\n",
    "\n",
    "collection = client.get_or_create_collection(name=\"faq_answers\", metadata={\"hnsw:space\": \"cosine\"})\n",
    "\n",
    "\n",
    "# If you want to connect to a running server\n",
    "# client = Client(\"http://localhost:8000\")\n"
   ]
  },
  {
   "cell_type": "code",
   "execution_count": 5,
   "metadata": {},
   "outputs": [],
   "source": [
    "import json\n",
    "from sentence_transformers import SentenceTransformer\n",
    "\n",
    "# Load the pre-trained SentenceTransformer model\n",
    "model = SentenceTransformer('all-MiniLM-L6-v2')\n",
    "\n",
    "# Load data from the JSON file\n",
    "with open('./../data/faq_data.json', 'r') as f:\n",
    "    corpus = json.load(f)\n",
    "\n",
    "# Insert data into Chroma DB\n",
    "for idx, item in enumerate(corpus):\n",
    "    embedding = model.encode(item['question'], convert_to_tensor=True).tolist()  # Convert to list for storage\n",
    "    # Generate a unique ID for each document\n",
    "    collection.add(\n",
    "        documents=[item['question']], \n",
    "        embeddings=[embedding], \n",
    "        metadatas=[{\"answer\": item['answer']}], \n",
    "        ids=[f\"doc_{idx}\"]\n",
    "    )\n"
   ]
  },
  {
   "cell_type": "code",
   "execution_count": 18,
   "metadata": {},
   "outputs": [
    {
     "name": "stdout",
     "output_type": "stream",
     "text": [
      "Results: {'ids': [['doc_2', 'doc_1', 'doc_0', 'doc_3', 'doc_4']], 'embeddings': None, 'documents': [['How do I create a virtual environment?', 'What is a virtual environment?', 'How to install Python?', 'What is pip?', 'How to uninstall a package using pip?']], 'uris': None, 'data': None, 'metadatas': [[{'answer': \"You can create a virtual environment using the command 'python -m venv myenv' where 'myenv' is the name of your environment.\"}, {'answer': 'A virtual environment is a self-contained directory that contains a Python installation for a particular version of Python, plus several additional packages.'}, {'answer': 'You can install Python by downloading it from the official website python.org and following the installation instructions.'}, {'answer': 'Pip is the package installer for Python. You can use it to install packages from the Python Package Index and other indexes.'}, {'answer': \"You can uninstall a package using pip by running the command 'pip uninstall package_name'.\"}]], 'distances': [[0.05168864410109786, 0.24943377073242945, 0.7117440849364962, 0.9545712944332566, 0.9648955365588971]], 'included': [<IncludeEnum.distances: 'distances'>, <IncludeEnum.documents: 'documents'>, <IncludeEnum.metadatas: 'metadatas'>]}\n",
      "Cosine Distances: [0.05168864 0.24943377 0.71174408 0.95457129 0.96489554]\n",
      "Cosine Similarities: [0.94831136 0.75056623 0.28825592 0.04542871 0.03510446]\n",
      "Best Similarity: 0.9483113558989021\n",
      "Answer: You can create a virtual environment using the command 'python -m venv myenv' where 'myenv' is the name of your environment.\n",
      "Original Question: How do I create a virtual environment?\n",
      "Similarity: 0.95\n"
     ]
    }
   ],
   "source": [
    "\n",
    "def get_answer_from_db(user_question, similarity_threshold=0.7):  # Adjust threshold as needed\n",
    "    not_found = \"Sorry, I couldn't find an answer to your question.\"\n",
    "    original_question = None\n",
    "    similarity = None\n",
    "    # Encode the user question to create an embedding\n",
    "    user_embedding = model.encode(user_question, convert_to_tensor=True).tolist()\n",
    "\n",
    "    # Query the collection for the most similar question\n",
    "    results = collection.query(user_embedding, n_results=5)  # Retrieve top 5 matches for better thresholding\n",
    "\n",
    "    # Print the results for debugging\n",
    "    print(\"Results:\", results)\n",
    "\n",
    "    # Check if there are any results\n",
    "    if results and results['documents']:\n",
    "        # Access the cosine distances directly\n",
    "        cosine_distances = np.array(results['distances'][0])  # Retrieve distances as they are\n",
    "        print(\"Cosine Distances:\", cosine_distances)\n",
    "\n",
    "        # Calculate cosine similarities from distances\n",
    "        cosine_similarities = 1 - cosine_distances  # Convert distances to similarities\n",
    "        print(\"Cosine Similarities:\", cosine_similarities)\n",
    "\n",
    "        best_similarity = cosine_similarities[0]  # Highest similarity indicates the best match\n",
    "        print(\"Best Similarity:\", best_similarity)\n",
    "\n",
    "        # Filter based on the similarity threshold\n",
    "        if best_similarity < similarity_threshold:  # Adjusted comparison for similarity\n",
    "            answer = not_found\n",
    "            \n",
    "            return (answer, None, None)\n",
    "        best_answer = results['metadatas'][0][0]['answer']\n",
    "        \n",
    "        answer = best_answer\n",
    "        original_question = results['documents'][0][0]\n",
    "        similarity = float(round(best_similarity,2))\n",
    "        \n",
    "    else:\n",
    "        answer = not_found\n",
    "        \n",
    "    return (answer, original_question, similarity)\n",
    "\n",
    "# Example usage\n",
    "user_input = \"How do I set up a virtual environment?\"\n",
    "answer, original_question, similarity = get_answer_from_db(user_input)\n",
    "print(\"Answer:\", answer)\n",
    "print(\"Original Question:\", original_question)\n",
    "print(\"Similarity:\", similarity)"
   ]
  },
  {
   "cell_type": "code",
   "execution_count": null,
   "metadata": {},
   "outputs": [],
   "source": []
  }
 ],
 "metadata": {
  "kernelspec": {
   "display_name": "project_env",
   "language": "python",
   "name": "python3"
  },
  "language_info": {
   "codemirror_mode": {
    "name": "ipython",
    "version": 3
   },
   "file_extension": ".py",
   "mimetype": "text/x-python",
   "name": "python",
   "nbconvert_exporter": "python",
   "pygments_lexer": "ipython3",
   "version": "3.10.12"
  }
 },
 "nbformat": 4,
 "nbformat_minor": 2
}
